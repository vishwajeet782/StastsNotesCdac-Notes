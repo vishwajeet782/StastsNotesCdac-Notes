{
 "cells": [
  {
   "cell_type": "code",
   "execution_count": null,
   "metadata": {
    "id": "WuP94UdZKhXC"
   },
   "outputs": [],
   "source": [
    "import numpy as np"
   ]
  },
  {
   "cell_type": "code",
   "execution_count": null,
   "metadata": {
    "id": "LGckRD6NKka6"
   },
   "outputs": [],
   "source": [
    "import pandas as pd"
   ]
  },
  {
   "cell_type": "code",
   "execution_count": null,
   "metadata": {
    "id": "kmgcqGytIdoH"
   },
   "outputs": [],
   "source": [
    "X = [4,7,6,8,9,2,3,5,4,7]"
   ]
  },
  {
   "cell_type": "code",
   "execution_count": null,
   "metadata": {
    "colab": {
     "base_uri": "https://localhost:8080/"
    },
    "executionInfo": {
     "elapsed": 494,
     "status": "ok",
     "timestamp": 1686800888650,
     "user": {
      "displayName": "Sriram Shiva Kumar",
      "userId": "12949414329469505343"
     },
     "user_tz": -330
    },
    "id": "P88JXelFKpon",
    "outputId": "51b51efc-2cdc-464a-8605-f1a97c111c11"
   },
   "outputs": [
    {
     "data": {
      "text/plain": [
       "2.1563858652847827"
      ]
     },
     "execution_count": 4,
     "metadata": {},
     "output_type": "execute_result"
    }
   ],
   "source": [
    "np.std(X,ddof=0)"
   ]
  },
  {
   "cell_type": "code",
   "execution_count": null,
   "metadata": {
    "colab": {
     "base_uri": "https://localhost:8080/"
    },
    "executionInfo": {
     "elapsed": 5,
     "status": "ok",
     "timestamp": 1686800920816,
     "user": {
      "displayName": "Sriram Shiva Kumar",
      "userId": "12949414329469505343"
     },
     "user_tz": -330
    },
    "id": "gjgJC7ZkKu51",
    "outputId": "c9291260-b093-42cc-9458-6516908ff3de"
   },
   "outputs": [
    {
     "data": {
      "text/plain": [
       "2.273030282830976"
      ]
     },
     "execution_count": 5,
     "metadata": {},
     "output_type": "execute_result"
    }
   ],
   "source": [
    "np.std(X,ddof=1)"
   ]
  },
  {
   "cell_type": "markdown",
   "metadata": {
    "id": "R41kVlOoLeOv"
   },
   "source": [
    "Degree of Freedom =  Sample space - 1"
   ]
  },
  {
   "cell_type": "markdown",
   "metadata": {
    "id": "hRNJtgcHLk2C"
   },
   "source": [
    "**SKEWNESS AND KURTOSIS**"
   ]
  },
  {
   "cell_type": "markdown",
   "metadata": {
    "id": "vxJiVBl5Phcg"
   },
   "source": [
    "Skewness: Symmetry of the Distribution."
   ]
  },
  {
   "cell_type": "code",
   "execution_count": null,
   "metadata": {
    "id": "e-PRGGukK210"
   },
   "outputs": [],
   "source": [
    "import scipy"
   ]
  },
  {
   "cell_type": "code",
   "execution_count": null,
   "metadata": {
    "id": "tQfVSBUqPvJ-"
   },
   "outputs": [],
   "source": [
    "from scipy import stats"
   ]
  },
  {
   "cell_type": "code",
   "execution_count": null,
   "metadata": {
    "id": "a-6y_RMfPy-N"
   },
   "outputs": [],
   "source": [
    "x = [1,1,2,2,2,2,2,2,2,2,2,3,3,3,4,4,5,6]\n",
    "y = [1,2,2,3,3,4,4,4,5,5,5,5,5,5,5,5,5,5,6,6,7]\n",
    "z = [1,1,2,2,2,3,3,3,3,4,4,4,4,4,4,4,4,4,4,4,4,4,4,5,5,5,5,6,6,6,7,7]"
   ]
  },
  {
   "cell_type": "code",
   "execution_count": null,
   "metadata": {
    "colab": {
     "base_uri": "https://localhost:8080/"
    },
    "executionInfo": {
     "elapsed": 5,
     "status": "ok",
     "timestamp": 1686802429845,
     "user": {
      "displayName": "Sriram Shiva Kumar",
      "userId": "12949414329469505343"
     },
     "user_tz": -330
    },
    "id": "1zYp-rV2QFJW",
    "outputId": "70965a94-bc0d-4d4b-ae40-3c8a7fbb0edd"
   },
   "outputs": [
    {
     "data": {
      "text/plain": [
       "1.1016485962545546"
      ]
     },
     "execution_count": 10,
     "metadata": {},
     "output_type": "execute_result"
    }
   ],
   "source": [
    "scipy.stats.skew(x)\n",
    "\n",
    "#positively skewed, left peak"
   ]
  },
  {
   "cell_type": "code",
   "execution_count": null,
   "metadata": {
    "colab": {
     "base_uri": "https://localhost:8080/"
    },
    "executionInfo": {
     "elapsed": 565,
     "status": "ok",
     "timestamp": 1686802442973,
     "user": {
      "displayName": "Sriram Shiva Kumar",
      "userId": "12949414329469505343"
     },
     "user_tz": -330
    },
    "id": "lUPVBy9qQMK1",
    "outputId": "98d6b1e3-e741-45d5-97a4-dc5790f0481c"
   },
   "outputs": [
    {
     "data": {
      "text/plain": [
       "-0.6877802002110032"
      ]
     },
     "execution_count": 11,
     "metadata": {},
     "output_type": "execute_result"
    }
   ],
   "source": [
    "scipy.stats.skew(y)\n",
    "\n",
    "#negatively skewed, right peak"
   ]
  },
  {
   "cell_type": "code",
   "execution_count": null,
   "metadata": {
    "colab": {
     "base_uri": "https://localhost:8080/"
    },
    "executionInfo": {
     "elapsed": 4,
     "status": "ok",
     "timestamp": 1686802499652,
     "user": {
      "displayName": "Sriram Shiva Kumar",
      "userId": "12949414329469505343"
     },
     "user_tz": -330
    },
    "id": "X0koKNDhQPfq",
    "outputId": "17628172-5efa-42e9-8099-df147c0a72e7"
   },
   "outputs": [
    {
     "data": {
      "text/plain": [
       "0.0"
      ]
     },
     "execution_count": 14,
     "metadata": {},
     "output_type": "execute_result"
    }
   ],
   "source": [
    "scipy.stats.skew(z)\n",
    "\n",
    "#skewness = 0, centre peak"
   ]
  },
  {
   "cell_type": "markdown",
   "metadata": {
    "id": "0Hl-6AyyRdHE"
   },
   "source": [
    "**Kurtosis:**\n",
    "\n",
    "**Sharpness of the peak **\n",
    "\n",
    "kurtosis don't tell about the location of the peak.\n",
    "\n",
    "if kurtosis is high, then the peak is more sharper\n",
    "\n",
    "--> for your understanding.\n",
    "kurtosis is calculated wrt normal bell distribution"
   ]
  },
  {
   "cell_type": "code",
   "execution_count": null,
   "metadata": {
    "id": "_AHHG3J9QrMj"
   },
   "outputs": [],
   "source": [
    "x = [1,1,1,2,2,2,3,3,3,3,4,4,4,4,4,5,5,5,5,6,6,6,7,7]\n",
    "y = [1,1,2,2,2,3,3,3,3,4,4,4,4,4,4,4,4,4,4,4,4,4,4,4,4,4,4,4,4,4,4,4,5,5,5,5,6,6,6,7,7,7]"
   ]
  },
  {
   "cell_type": "code",
   "execution_count": null,
   "metadata": {
    "colab": {
     "base_uri": "https://localhost:8080/"
    },
    "executionInfo": {
     "elapsed": 3,
     "status": "ok",
     "timestamp": 1686803454791,
     "user": {
      "displayName": "Sriram Shiva Kumar",
      "userId": "12949414329469505343"
     },
     "user_tz": -330
    },
    "id": "PJcUEswIS2R5",
    "outputId": "1f44b8e3-bf41-445f-9f9a-8e6607941632"
   },
   "outputs": [
    {
     "data": {
      "text/plain": [
       "0.5876352623039494"
      ]
     },
     "execution_count": 18,
     "metadata": {},
     "output_type": "execute_result"
    }
   ],
   "source": [
    "scipy.stats.kurtosis(y)\n",
    "\n",
    "#peak is sharp\n",
    "#peak is prominent"
   ]
  },
  {
   "cell_type": "code",
   "execution_count": null,
   "metadata": {
    "colab": {
     "base_uri": "https://localhost:8080/"
    },
    "executionInfo": {
     "elapsed": 484,
     "status": "ok",
     "timestamp": 1686803457300,
     "user": {
      "displayName": "Sriram Shiva Kumar",
      "userId": "12949414329469505343"
     },
     "user_tz": -330
    },
    "id": "uM49C1FMS8jF",
    "outputId": "e5a53716-16a2-4cd3-b327-2c221d2e99e6"
   },
   "outputs": [
    {
     "data": {
      "text/plain": [
       "-0.9451498127839182"
      ]
     },
     "execution_count": 19,
     "metadata": {},
     "output_type": "execute_result"
    }
   ],
   "source": [
    "scipy.stats.kurtosis(x)\n",
    "\n",
    "#peak is not sharp\n",
    "#peak is less prominent"
   ]
  },
  {
   "cell_type": "markdown",
   "metadata": {
    "id": "7FZgDS8VYwm-"
   },
   "source": [
    "**PROBABILITY DISTRIBUTION:**\n",
    "\n",
    "**For discrete data:**\n",
    "\n",
    "1) Binomial distribution\n",
    "\n",
    "2) Poission distribution\n",
    "\n",
    "3) hyper geometric distribution\n",
    "\n",
    "**For Continuous data:**\n",
    "\n",
    "1)Exponential distribution\n",
    "\n",
    "2)Normal distribution\n",
    "\n",
    "3)Student's t distribution"
   ]
  },
  {
   "cell_type": "markdown",
   "metadata": {
    "id": "xpoNQ-KIZkmj"
   },
   "source": [
    "**1) Binomial distribution:**\n",
    "\n",
    "To use binomial distribution:\n",
    "\n",
    "i) there should be only two possibilities or outcomes.\n",
    "  Eg: t20 win or lose, rains or not rains etc\n",
    "\n",
    "ii)\n",
    "  Eg: Probability of rains in June in any given day is 0.4\n",
    "  Iam in Mumbai for 20 days. What are the chances that\n",
    "  a) It rains for exactly 12 days\n",
    "  b) It rains for max 12 days\n",
    "  c) It rains for min 12 days"
   ]
  },
  {
   "cell_type": "markdown",
   "metadata": {
    "id": "dWE4SW9Oa3sj"
   },
   "source": [
    "Eg: Probability of rains in June in any given day is 0.4\n",
    "Iam in Mumbai for 20 days. What are the chances that\n",
    "\n",
    "  a) It rains for exactly 12 days\n",
    "\n",
    "  b) It rains for max 4 days\n",
    "\n",
    "  c) It rains for min 12 days\n",
    "\n",
    "  Use -\n",
    "\n",
    "**1)binom.pmf() #probability mass function**:\n",
    "\n",
    "   this is used to find prob of single number\n",
    "\n",
    "\n",
    "**2) binom.cdf() #Cumulative distribution function**\n",
    "\n",
    "  CDF = It adds the prob from 0 to the number that we give"
   ]
  },
  {
   "cell_type": "markdown",
   "metadata": {
    "id": "T8UOKbMBe8w4"
   },
   "source": [
    "**1) Probability mass function:**\n",
    "\n",
    "**binom.pmf(r,n,p) #probability mass function:**\n",
    "\n",
    "--> this is used to find prob of single number\n",
    "\n",
    "--> The binom.pmf() function takes in three parameters:\n",
    "\n",
    "n: the total number of trials or times the experiment will be carried out.\n",
    "\n",
    "r: a list of integers from 0 to n, inclusive.\n",
    "\n",
    "p: the probability that the outcome of a single experiment will be a success. The value of p must be between 0 and 1, inclusive."
   ]
  },
  {
   "cell_type": "markdown",
   "metadata": {
    "id": "P0p_ZgW2fn0S"
   },
   "source": [
    "**2)Cumulative distribution function**\n",
    "\n",
    " **binom.cdf(r,n,p)** #Cumulative distribution function\n",
    "\n",
    "  CDF = It adds the prob from 0 to the number (r) that we give."
   ]
  },
  {
   "cell_type": "code",
   "execution_count": null,
   "metadata": {
    "id": "qFIPeejITDJM"
   },
   "outputs": [],
   "source": [
    "import scipy"
   ]
  },
  {
   "cell_type": "code",
   "execution_count": null,
   "metadata": {
    "id": "ivbFg44_avzs"
   },
   "outputs": [],
   "source": [
    "# from scipy import stats"
   ]
  },
  {
   "cell_type": "code",
   "execution_count": null,
   "metadata": {
    "id": "mCDjvf_AaoBN"
   },
   "outputs": [],
   "source": [
    "from scipy.stats import binom"
   ]
  },
  {
   "cell_type": "code",
   "execution_count": null,
   "metadata": {
    "colab": {
     "base_uri": "https://localhost:8080/"
    },
    "executionInfo": {
     "elapsed": 17,
     "status": "ok",
     "timestamp": 1686805229902,
     "user": {
      "displayName": "Sriram Shiva Kumar",
      "userId": "12949414329469505343"
     },
     "user_tz": -330
    },
    "id": "MfuIpUjxas04",
    "outputId": "e63363e6-6dc3-47eb-89c9-da027d0c3fd2"
   },
   "outputs": [
    {
     "data": {
      "text/plain": [
       "0.03549743955648174"
      ]
     },
     "execution_count": 22,
     "metadata": {},
     "output_type": "execute_result"
    }
   ],
   "source": [
    "#ans for above qsn\n",
    "#a) for exactly twelve days\n",
    "\n",
    "binom.pmf(12,20,0.4)"
   ]
  },
  {
   "cell_type": "code",
   "execution_count": null,
   "metadata": {
    "colab": {
     "base_uri": "https://localhost:8080/"
    },
    "executionInfo": {
     "elapsed": 15,
     "status": "ok",
     "timestamp": 1686805570243,
     "user": {
      "displayName": "Sriram Shiva Kumar",
      "userId": "12949414329469505343"
     },
     "user_tz": -330
    },
    "id": "nSxHDmxMbSqA",
    "outputId": "5e28f78b-8c0f-4a10-aebd-2e7fc3600cc4"
   },
   "outputs": [
    {
     "data": {
      "text/plain": [
       "0.05095195319416651"
      ]
     },
     "execution_count": 23,
     "metadata": {},
     "output_type": "execute_result"
    }
   ],
   "source": [
    "# CDF = It adds the prob from 0 to the number that we give\n",
    "#b) It rains for max 4 days\n",
    "\n",
    "binom.cdf(4,20,0.4)"
   ]
  },
  {
   "cell_type": "code",
   "execution_count": null,
   "metadata": {
    "colab": {
     "base_uri": "https://localhost:8080/"
    },
    "executionInfo": {
     "elapsed": 10,
     "status": "ok",
     "timestamp": 1686805678689,
     "user": {
      "displayName": "Sriram Shiva Kumar",
      "userId": "12949414329469505343"
     },
     "user_tz": -330
    },
    "id": "GPmIcP2-cl7l",
    "outputId": "61f59cff-24b0-4374-e4fd-b91f436efede"
   },
   "outputs": [
    {
     "data": {
      "text/plain": [
       "0.05095195319416648"
      ]
     },
     "execution_count": 24,
     "metadata": {},
     "output_type": "execute_result"
    }
   ],
   "source": [
    "#b) It rains for max 4 days\n",
    "\n",
    "binom.pmf(0,20,0.4)+ binom.pmf(1,20,0.4) + binom.pmf(2,20,0.4) + binom.pmf(3,20,0.4) + binom.pmf(4,20,0.4)"
   ]
  },
  {
   "cell_type": "code",
   "execution_count": null,
   "metadata": {
    "colab": {
     "base_uri": "https://localhost:8080/"
    },
    "executionInfo": {
     "elapsed": 14,
     "status": "ok",
     "timestamp": 1686805800052,
     "user": {
      "displayName": "Sriram Shiva Kumar",
      "userId": "12949414329469505343"
     },
     "user_tz": -330
    },
    "id": "dPeoQw7qdATV",
    "outputId": "25c174a7-cc2c-4a3e-e296-cf9c9d22c929"
   },
   "outputs": [
    {
     "data": {
      "text/plain": [
       "0.021028927477771187"
      ]
     },
     "execution_count": 25,
     "metadata": {},
     "output_type": "execute_result"
    }
   ],
   "source": [
    "#it should rain for min 13 or more days.\n",
    "\n",
    "1 - binom.cdf(12,20,0.4)"
   ]
  },
  {
   "cell_type": "code",
   "execution_count": null,
   "metadata": {
    "colab": {
     "base_uri": "https://localhost:8080/"
    },
    "executionInfo": {
     "elapsed": 16,
     "status": "ok",
     "timestamp": 1686805855546,
     "user": {
      "displayName": "Sriram Shiva Kumar",
      "userId": "12949414329469505343"
     },
     "user_tz": -330
    },
    "id": "c0kSPFwIdd3V",
    "outputId": "2766cf91-29c2-488b-ca42-ee218999c259"
   },
   "outputs": [
    {
     "data": {
      "text/plain": [
       "0.05652636703425307"
      ]
     },
     "execution_count": 26,
     "metadata": {},
     "output_type": "execute_result"
    }
   ],
   "source": [
    "# It rains for min 12 days\n",
    "#look out for the first number in the command while doing this operation\n",
    "\n",
    "1 - binom.cdf(11,20,0.4)"
   ]
  },
  {
   "cell_type": "code",
   "execution_count": null,
   "metadata": {
    "colab": {
     "base_uri": "https://localhost:8080/"
    },
    "executionInfo": {
     "elapsed": 5,
     "status": "ok",
     "timestamp": 1686820546239,
     "user": {
      "displayName": "Sriram Shiva Kumar",
      "userId": "12949414329469505343"
     },
     "user_tz": -330
    },
    "id": "6diIYkpMdrdu",
    "outputId": "5408c495-8172-4b65-83d2-831837527ab4"
   },
   "outputs": [
    {
     "data": {
      "text/plain": [
       "0.056526367034253025"
      ]
     },
     "execution_count": 53,
     "metadata": {},
     "output_type": "execute_result"
    }
   ],
   "source": [
    "#another option for (1 - binom.cdf(11,20,0.4) ) or above question is\n",
    "\n",
    "binom.sf(11,20,0.4)"
   ]
  },
  {
   "cell_type": "markdown",
   "metadata": {
    "id": "BzBASuwAnTYv"
   },
   "source": [
    "**POISSION DISTRIBUTION:**\n",
    "\n",
    "This distribution is used when the probability of an event is too low or cannot be calculated. We work with the \"Average number of occurances\""
   ]
  },
  {
   "cell_type": "markdown",
   "metadata": {
    "id": "Mpxgj_mKn8AU"
   },
   "source": [
    "If no of accidents in an area are 30 per day\n",
    "find:\n",
    "\n",
    "a) exactly 27 accidents takes place\n",
    "\n",
    "b) max 27 accidents takes place\n",
    "\n",
    "c) min 27 accidents takes place\n",
    "\n",
    "here we can't calculate the probability of accident.That's why we're using poission distribution"
   ]
  },
  {
   "cell_type": "code",
   "execution_count": null,
   "metadata": {
    "id": "z7qYmpSXhCyH"
   },
   "outputs": [],
   "source": [
    "from scipy.stats import poisson"
   ]
  },
  {
   "cell_type": "code",
   "execution_count": null,
   "metadata": {
    "colab": {
     "base_uri": "https://localhost:8080/"
    },
    "executionInfo": {
     "elapsed": 783,
     "status": "ok",
     "timestamp": 1686808719207,
     "user": {
      "displayName": "Sriram Shiva Kumar",
      "userId": "12949414329469505343"
     },
     "user_tz": -330
    },
    "id": "bVw2YLMBobYa",
    "outputId": "0c22d6f2-3689-4d0e-8dd1-92b3cd2079d2"
   },
   "outputs": [
    {
     "data": {
      "text/plain": [
       "0.06553248388325897"
      ]
     },
     "execution_count": 30,
     "metadata": {},
     "output_type": "execute_result"
    }
   ],
   "source": [
    "#a)exactly 27 accidents takes place\n",
    "\n",
    "poisson.pmf(27,30)"
   ]
  },
  {
   "cell_type": "code",
   "execution_count": null,
   "metadata": {
    "colab": {
     "base_uri": "https://localhost:8080/"
    },
    "executionInfo": {
     "elapsed": 660,
     "status": "ok",
     "timestamp": 1686808849649,
     "user": {
      "displayName": "Sriram Shiva Kumar",
      "userId": "12949414329469505343"
     },
     "user_tz": -330
    },
    "id": "mKyU-I5Womju",
    "outputId": "d22213cf-9f57-44e1-f2fa-1238af232e24"
   },
   "outputs": [
    {
     "data": {
      "text/plain": [
       "0.3328690840455234"
      ]
     },
     "execution_count": 32,
     "metadata": {},
     "output_type": "execute_result"
    }
   ],
   "source": [
    "#b)max 27 accidents takes place\n",
    "\n",
    "poisson.cdf(27,30) #max 27 accidents takes place (includes all numbers from 0 to 27 )"
   ]
  },
  {
   "cell_type": "code",
   "execution_count": null,
   "metadata": {
    "colab": {
     "base_uri": "https://localhost:8080/"
    },
    "executionInfo": {
     "elapsed": 759,
     "status": "ok",
     "timestamp": 1686809184954,
     "user": {
      "displayName": "Sriram Shiva Kumar",
      "userId": "12949414329469505343"
     },
     "user_tz": -330
    },
    "id": "0fHzg4AdpEE1",
    "outputId": "0179671d-2c78-4025-c5cb-b0e008bb1b68"
   },
   "outputs": [
    {
     "data": {
      "text/plain": [
       "0.7326633998377348"
      ]
     },
     "execution_count": 33,
     "metadata": {},
     "output_type": "execute_result"
    }
   ],
   "source": [
    "#c)min 27 accidents takes place\n",
    "\n",
    "1-poisson.cdf(26,30)"
   ]
  },
  {
   "cell_type": "markdown",
   "metadata": {
    "id": "H3GuYAKDrR8_"
   },
   "source": [
    "**very very important**\n",
    "\n",
    "\n",
    "--> **Sampling in binomial distribution takes place with replacement.**\n",
    "\n",
    "\n",
    "--> **Sampling in Hypergeometric distribution takes place without replacement**\n",
    "--> Population size is finite."
   ]
  },
  {
   "cell_type": "markdown",
   "metadata": {
    "id": "oasbFWP-sbIr"
   },
   "source": [
    "**Hyper geometric Distribution:**\n",
    "\n",
    "--> This is used when sampling is done without replacement.\n",
    "\n",
    "--> Population size is finite in this distribution.\n",
    "\n",
    "Eg: Any quality checking in industry falls under Hyper geometric Distribution"
   ]
  },
  {
   "cell_type": "markdown",
   "metadata": {
    "id": "ErWmbVxLtJKt"
   },
   "source": [
    "Eg: 70 LEDs from the manufacturer, out of which upto 7 can be defective.\n",
    "\n",
    "we take a sample of 20, out of which upto 2 is allowed to be defective and we still accept the lot."
   ]
  },
  {
   "cell_type": "markdown",
   "metadata": {
    "id": "dKXhpJN5uajK"
   },
   "source": [
    "**hypergeom.cdf(no_of_defectives_allowed_in_sample,  population_size,\n",
    "no_of_defectives_in_population_size, sample_size)**\n",
    "\n",
    "---\n",
    "\n"
   ]
  },
  {
   "cell_type": "code",
   "execution_count": null,
   "metadata": {
    "id": "uZ1P5nOBqYRK"
   },
   "outputs": [],
   "source": [
    "from scipy.stats import hypergeom"
   ]
  },
  {
   "cell_type": "code",
   "execution_count": null,
   "metadata": {
    "colab": {
     "base_uri": "https://localhost:8080/"
    },
    "executionInfo": {
     "elapsed": 930,
     "status": "ok",
     "timestamp": 1686810385697,
     "user": {
      "displayName": "Sriram Shiva Kumar",
      "userId": "12949414329469505343"
     },
     "user_tz": -330
    },
    "id": "J404thfVt_qv",
    "outputId": "4adab447-52d5-4161-8ab2-71716c6655ec"
   },
   "outputs": [
    {
     "data": {
      "text/plain": [
       "0.6842509992202706"
      ]
     },
     "execution_count": 35,
     "metadata": {},
     "output_type": "execute_result"
    }
   ],
   "source": [
    "#maintain the sequence of arguments.\n",
    "\n",
    "hypergeom.cdf(2,70,7,20)\n",
    "\n",
    "#0.68 is the probability in the lot of 20, either there is no defective, one defective, 2 defectives"
   ]
  },
  {
   "cell_type": "code",
   "execution_count": null,
   "metadata": {
    "colab": {
     "base_uri": "https://localhost:8080/"
    },
    "executionInfo": {
     "elapsed": 528,
     "status": "ok",
     "timestamp": 1686810791722,
     "user": {
      "displayName": "Sriram Shiva Kumar",
      "userId": "12949414329469505343"
     },
     "user_tz": -330
    },
    "id": "HgUgBYzYwTEM",
    "outputId": "2241252a-7a0e-4967-9e21-e4ccbd3d7010"
   },
   "outputs": [
    {
     "data": {
      "text/plain": [
       "0.6842509992202704"
      ]
     },
     "execution_count": 36,
     "metadata": {},
     "output_type": "execute_result"
    }
   ],
   "source": [
    "hypergeom.pmf(0,70,7,20) + hypergeom.pmf(1,70,7,20) + hypergeom.pmf(2,70,7,20)"
   ]
  },
  {
   "cell_type": "markdown",
   "metadata": {
    "id": "U-1yOiIDv_TB"
   },
   "source": [
    "**For Continuous data:**\n",
    "\n",
    "1)Exponential distribution\n",
    "\n",
    "2)Normal distribution\n",
    "\n",
    "3)Student's t distribution"
   ]
  },
  {
   "cell_type": "markdown",
   "metadata": {
    "id": "Q9goGfZhwh7l"
   },
   "source": [
    "**1) EXPONENTIAL DISTRIBUTION:**\n",
    "\n",
    "--> This distribution is used when we wish to model the time gap between two successive events."
   ]
  },
  {
   "cell_type": "markdown",
   "metadata": {
    "id": "I1Wp4177xDSg"
   },
   "source": [
    "Eg:\n",
    "On an average there are 200 server trips in one year.\n",
    "A client is visiting the office for 60 hours\n",
    "What are the chances he sees the server trips.\n",
    "\n",
    "MTBF - Mean Time Between Failures"
   ]
  },
  {
   "cell_type": "code",
   "execution_count": null,
   "metadata": {
    "colab": {
     "base_uri": "https://localhost:8080/"
    },
    "executionInfo": {
     "elapsed": 657,
     "status": "ok",
     "timestamp": 1686811138520,
     "user": {
      "displayName": "Sriram Shiva Kumar",
      "userId": "12949414329469505343"
     },
     "user_tz": -330
    },
    "id": "gstTG3Vmxyfs",
    "outputId": "4a138f6d-874f-4047-975b-b3e59c7cfa29"
   },
   "outputs": [
    {
     "data": {
      "text/plain": [
       "8760"
      ]
     },
     "execution_count": 38,
     "metadata": {},
     "output_type": "execute_result"
    }
   ],
   "source": [
    "365*24\n",
    "\n",
    "#no of hours in an year"
   ]
  },
  {
   "cell_type": "code",
   "execution_count": null,
   "metadata": {
    "colab": {
     "base_uri": "https://localhost:8080/"
    },
    "executionInfo": {
     "elapsed": 613,
     "status": "ok",
     "timestamp": 1686811119762,
     "user": {
      "displayName": "Sriram Shiva Kumar",
      "userId": "12949414329469505343"
     },
     "user_tz": -330
    },
    "id": "okCF0b85u9Vx",
    "outputId": "c376932d-37e6-4359-9730-044a70297d82"
   },
   "outputs": [
    {
     "data": {
      "text/plain": [
       "43.8"
      ]
     },
     "execution_count": 37,
     "metadata": {},
     "output_type": "execute_result"
    }
   ],
   "source": [
    "8760/200\n",
    "\n",
    "#MTBF = mean time between failures\n",
    "#for every 43.8 hours, the server trips."
   ]
  },
  {
   "cell_type": "code",
   "execution_count": null,
   "metadata": {
    "id": "dr9_IT-axwsH"
   },
   "outputs": [],
   "source": [
    "e = 2.7182"
   ]
  },
  {
   "cell_type": "markdown",
   "metadata": {
    "id": "z2Cc4YPJyQPW"
   },
   "source": [
    "e**(-no of hours/MTBF)"
   ]
  },
  {
   "cell_type": "code",
   "execution_count": null,
   "metadata": {
    "colab": {
     "base_uri": "https://localhost:8080/"
    },
    "executionInfo": {
     "elapsed": 599,
     "status": "ok",
     "timestamp": 1686811269219,
     "user": {
      "displayName": "Sriram Shiva Kumar",
      "userId": "12949414329469505343"
     },
     "user_tz": -330
    },
    "id": "gsMV3n-nyH07",
    "outputId": "9656106e-9966-4cf1-dfc8-a61082996989"
   },
   "outputs": [
    {
     "data": {
      "text/plain": [
       "0.2541522515269206"
      ]
     },
     "execution_count": 40,
     "metadata": {},
     "output_type": "execute_result"
    }
   ],
   "source": [
    "e**(-60/43.8)\n",
    "\n",
    "# THIS is the prob that the server breakdowns after client leaves the office."
   ]
  },
  {
   "cell_type": "code",
   "execution_count": null,
   "metadata": {
    "colab": {
     "base_uri": "https://localhost:8080/"
    },
    "executionInfo": {
     "elapsed": 496,
     "status": "ok",
     "timestamp": 1686811336281,
     "user": {
      "displayName": "Sriram Shiva Kumar",
      "userId": "12949414329469505343"
     },
     "user_tz": -330
    },
    "id": "gjL8O5ktyh13",
    "outputId": "19538bf4-5f7f-4f9a-995c-344c60f2f849"
   },
   "outputs": [
    {
     "data": {
      "text/plain": [
       "0.7458477484730794"
      ]
     },
     "execution_count": 41,
     "metadata": {},
     "output_type": "execute_result"
    }
   ],
   "source": [
    "1 - e**(-60/43.8)\n",
    "\n",
    "# this is the prob that the client will see the breakdown."
   ]
  },
  {
   "cell_type": "markdown",
   "metadata": {
    "id": "NX0K9gn7zG48"
   },
   "source": [
    "**Normal distribution and Student's t distribution:**\n",
    "\n",
    "--> Normal distribution is used when the sample size>30\n",
    "\n",
    "--> Student's t distribution is used when the sample size<30\n",
    "\n",
    "--> Normal distbn cannot be used when the sample size<30\n",
    "\n",
    "--> A normal bellshaped curve is defined by two parameters: Mean , Std deviation"
   ]
  },
  {
   "cell_type": "markdown",
   "metadata": {
    "id": "ApEr2Yau1Wzb"
   },
   "source": [
    "Whenever std deviation comes use the word consistency if it is low!\n",
    "if it is high then variation is high, then it is inconsistent."
   ]
  },
  {
   "cell_type": "markdown",
   "metadata": {
    "id": "VUCt8p542ZQb"
   },
   "source": [
    "**Normal Distribution:**\n",
    "\n",
    "This distribution is characterized by two parameters: **mean and Std deviation.**\n",
    "\n",
    "**norm.cdf(given_value,mean,std_dev)**\n",
    "\n",
    "\n",
    "eg: KHR - CST\n",
    "avg travel time (mean) = 70 mins, std deviation = 2 mins\n",
    "then what is the probability of reaching CST in less than 67 and more than 67 mins\n",
    "\n"
   ]
  },
  {
   "cell_type": "markdown",
   "metadata": {
    "id": "rqOOVpLlaiGr"
   },
   "source": [
    "syntax:  **norm.cdf(given_value,mean,std_dev)**"
   ]
  },
  {
   "cell_type": "code",
   "execution_count": 1,
   "metadata": {
    "executionInfo": {
     "elapsed": 1149,
     "status": "ok",
     "timestamp": 1687176478868,
     "user": {
      "displayName": "Sriram Shiva Kumar",
      "userId": "12949414329469505343"
     },
     "user_tz": -330
    },
    "id": "FT2REfY9ylYB"
   },
   "outputs": [],
   "source": [
    "from scipy.stats import norm"
   ]
  },
  {
   "cell_type": "code",
   "execution_count": null,
   "metadata": {
    "colab": {
     "base_uri": "https://localhost:8080/"
    },
    "executionInfo": {
     "elapsed": 622,
     "status": "ok",
     "timestamp": 1686812591374,
     "user": {
      "displayName": "Sriram Shiva Kumar",
      "userId": "12949414329469505343"
     },
     "user_tz": -330
    },
    "id": "5_XUkRAQ3UaE",
    "outputId": "6731fa4d-577d-4aa1-b043-9dc6fb82bd8b"
   },
   "outputs": [
    {
     "data": {
      "text/plain": [
       "0.06680720126885807"
      ]
     },
     "execution_count": 43,
     "metadata": {},
     "output_type": "execute_result"
    }
   ],
   "source": [
    "norm.cdf(67,70,2)\n",
    "\n",
    "#prob of lessthan 67"
   ]
  },
  {
   "cell_type": "code",
   "execution_count": null,
   "metadata": {
    "colab": {
     "base_uri": "https://localhost:8080/"
    },
    "executionInfo": {
     "elapsed": 629,
     "status": "ok",
     "timestamp": 1686812644925,
     "user": {
      "displayName": "Sriram Shiva Kumar",
      "userId": "12949414329469505343"
     },
     "user_tz": -330
    },
    "id": "VFfyDQK93X-n",
    "outputId": "092bd104-02a3-4210-fc48-f4318c1b8170"
   },
   "outputs": [
    {
     "data": {
      "text/plain": [
       "0.9331927987311419"
      ]
     },
     "execution_count": 44,
     "metadata": {},
     "output_type": "execute_result"
    }
   ],
   "source": [
    "1 - norm.cdf(67,70,2)\n",
    "\n",
    "#prob of more than 67"
   ]
  },
  {
   "cell_type": "code",
   "execution_count": null,
   "metadata": {
    "colab": {
     "base_uri": "https://localhost:8080/"
    },
    "executionInfo": {
     "elapsed": 1008,
     "status": "ok",
     "timestamp": 1686812660565,
     "user": {
      "displayName": "Sriram Shiva Kumar",
      "userId": "12949414329469505343"
     },
     "user_tz": -330
    },
    "id": "xU0Uoy2T3lDP",
    "outputId": "d423d3d9-fc20-42ec-e16f-2809eeae6049"
   },
   "outputs": [
    {
     "data": {
      "text/plain": [
       "0.9331927987311419"
      ]
     },
     "execution_count": 45,
     "metadata": {},
     "output_type": "execute_result"
    }
   ],
   "source": [
    "norm.sf(67,70,2)\n",
    "\n",
    "\n",
    "#prob of more than 67"
   ]
  },
  {
   "cell_type": "markdown",
   "metadata": {
    "id": "hMIfhZyd4Xay"
   },
   "source": [
    "**ONLY IN NORMAL DISTRIBUTION:**\n",
    "\n",
    "68.26 or 68.3 % of the observations will fall between (mean +-1 std deviation) from the mean.\n",
    "\n",
    "95% of the observations will fall between (mean +-2 std deviation)from the mean.\n",
    "\n",
    "99.73% of the observations will fall between (mean +-3 std deviation)from the mean."
   ]
  },
  {
   "cell_type": "markdown",
   "metadata": {
    "id": "ntK-102g6L0z"
   },
   "source": []
  },
  {
   "cell_type": "markdown",
   "metadata": {
    "id": "yR1rFXyx8JqJ"
   },
   "source": [
    "**Std Normal Curve:**\n",
    "--> It is a normal distribution curve where mean=0, std dev = 1\n",
    "--> mean = 0, std deviation = 1"
   ]
  },
  {
   "cell_type": "markdown",
   "metadata": {
    "id": "K8S31vjc-L9M"
   },
   "source": [
    "**Transforming the personal Normal distribution to Standard Normal Distribution:**\n",
    "\n",
    "--> see your notes for diagram\n",
    "\n",
    "--> To transform the given value X to Std value in Standard Normal Distribution,\n",
    "\n",
    "--> **Z = (X-Mean)/Std Deviation**"
   ]
  },
  {
   "cell_type": "code",
   "execution_count": null,
   "metadata": {
    "colab": {
     "base_uri": "https://localhost:8080/"
    },
    "executionInfo": {
     "elapsed": 570,
     "status": "ok",
     "timestamp": 1686814240005,
     "user": {
      "displayName": "Sriram Shiva Kumar",
      "userId": "12949414329469505343"
     },
     "user_tz": -330
    },
    "id": "IB7ZMQQW3osW",
    "outputId": "4470af16-ddad-4818-c6be-779ee0b31a78"
   },
   "outputs": [
    {
     "data": {
      "text/plain": [
       "0.06680720126885807"
      ]
     },
     "execution_count": 47,
     "metadata": {},
     "output_type": "execute_result"
    }
   ],
   "source": [
    "norm.cdf(-1.5)\n",
    "\n",
    "#after transforming our personal normal distribution to Standard Normal Distribution.\n",
    "#Z = -1.5\n",
    "#this is the area under the std normal curve\n",
    "#this is the probability of reaching kharghar in less than 67 minutes."
   ]
  },
  {
   "cell_type": "code",
   "execution_count": null,
   "metadata": {
    "colab": {
     "base_uri": "https://localhost:8080/"
    },
    "executionInfo": {
     "elapsed": 599,
     "status": "ok",
     "timestamp": 1686827513056,
     "user": {
      "displayName": "Sriram Shiva Kumar",
      "userId": "12949414329469505343"
     },
     "user_tz": -330
    },
    "id": "jg1NUZnQwPdh",
    "outputId": "dcd8ed49-895f-400f-e490-129d5d4054c0"
   },
   "outputs": [
    {
     "data": {
      "text/plain": [
       "0.15865525393145707"
      ]
     },
     "execution_count": 56,
     "metadata": {},
     "output_type": "execute_result"
    }
   ],
   "source": [
    "norm.cdf(-1)"
   ]
  },
  {
   "cell_type": "code",
   "execution_count": null,
   "metadata": {
    "colab": {
     "base_uri": "https://localhost:8080/"
    },
    "executionInfo": {
     "elapsed": 13,
     "status": "ok",
     "timestamp": 1686827523332,
     "user": {
      "displayName": "Sriram Shiva Kumar",
      "userId": "12949414329469505343"
     },
     "user_tz": -330
    },
    "id": "jh3phthkwUfL",
    "outputId": "c55e91b9-d212-4310-a994-6d01ee34c013"
   },
   "outputs": [
    {
     "data": {
      "text/plain": [
       "0.31731050786291415"
      ]
     },
     "execution_count": 57,
     "metadata": {},
     "output_type": "execute_result"
    }
   ],
   "source": [
    "norm.cdf(-1)*2"
   ]
  },
  {
   "cell_type": "code",
   "execution_count": null,
   "metadata": {
    "colab": {
     "base_uri": "https://localhost:8080/"
    },
    "executionInfo": {
     "elapsed": 732,
     "status": "ok",
     "timestamp": 1686827541410,
     "user": {
      "displayName": "Sriram Shiva Kumar",
      "userId": "12949414329469505343"
     },
     "user_tz": -330
    },
    "id": "loQuDngZwYSU",
    "outputId": "758c36f6-d80d-4ac4-e24a-232b6ce1e386"
   },
   "outputs": [
    {
     "data": {
      "text/plain": [
       "0.6826894921370859"
      ]
     },
     "execution_count": 58,
     "metadata": {},
     "output_type": "execute_result"
    }
   ],
   "source": [
    "1 - norm.cdf(-1)*2"
   ]
  },
  {
   "cell_type": "code",
   "execution_count": null,
   "metadata": {
    "colab": {
     "base_uri": "https://localhost:8080/"
    },
    "executionInfo": {
     "elapsed": 518,
     "status": "ok",
     "timestamp": 1686827561071,
     "user": {
      "displayName": "Sriram Shiva Kumar",
      "userId": "12949414329469505343"
     },
     "user_tz": -330
    },
    "id": "KtAaQIoMwarq",
    "outputId": "946c80db-05f9-4d02-e897-8d80c2a3557f"
   },
   "outputs": [
    {
     "data": {
      "text/plain": [
       "0.9544997361036416"
      ]
     },
     "execution_count": 60,
     "metadata": {},
     "output_type": "execute_result"
    }
   ],
   "source": [
    "1-norm.cdf(-2)*2"
   ]
  },
  {
   "cell_type": "code",
   "execution_count": null,
   "metadata": {
    "colab": {
     "base_uri": "https://localhost:8080/"
    },
    "executionInfo": {
     "elapsed": 14,
     "status": "ok",
     "timestamp": 1686827590510,
     "user": {
      "displayName": "Sriram Shiva Kumar",
      "userId": "12949414329469505343"
     },
     "user_tz": -330
    },
    "id": "aDrZmlW6wjjn",
    "outputId": "1fe4b637-2440-41e7-aba0-e2cd764ca3a3"
   },
   "outputs": [
    {
     "data": {
      "text/plain": [
       "0.9973002039367398"
      ]
     },
     "execution_count": 61,
     "metadata": {},
     "output_type": "execute_result"
    }
   ],
   "source": [
    "1-norm.cdf(-3)*2"
   ]
  },
  {
   "cell_type": "markdown",
   "metadata": {
    "id": "Z15L1u24_n0u"
   },
   "source": [
    "**Student's t distribution:**\n",
    "\n",
    "--> We use Student's t distbn instead of normal distbn if sample size < 30\n",
    "--> This statement (ss<30) is based on Central Limit Theorem in Statistics.\n",
    "\n",
    "--> Central limit thorem says as the sample size increrases the distribution of the means will get closer and closer to the normal distribution.\n",
    "\n",
    "-->syntax: **t.cdf(Z, degree_of_freedom)**\n",
    "\n",
    " **where degree_of_freedom = sample size - 1**"
   ]
  },
  {
   "cell_type": "markdown",
   "metadata": {
    "id": "nUZ3Me6rAKMU"
   },
   "source": [
    "If the above data is based on 20 trips (<30), so we need to use the Student's t distbn"
   ]
  },
  {
   "cell_type": "code",
   "execution_count": null,
   "metadata": {
    "id": "Iy48NOxJ9m-F"
   },
   "outputs": [],
   "source": [
    "from scipy.stats import t"
   ]
  },
  {
   "cell_type": "code",
   "execution_count": null,
   "metadata": {
    "colab": {
     "base_uri": "https://localhost:8080/"
    },
    "executionInfo": {
     "elapsed": 19,
     "status": "ok",
     "timestamp": 1686822405937,
     "user": {
      "displayName": "Sriram Shiva Kumar",
      "userId": "12949414329469505343"
     },
     "user_tz": -330
    },
    "id": "rh9yKAkJ-g_b",
    "outputId": "7f9e022c-11a9-4473-a7ed-89041ec97a9d"
   },
   "outputs": [
    {
     "data": {
      "text/plain": [
       "0.07502426537113577"
      ]
     },
     "execution_count": 54,
     "metadata": {},
     "output_type": "execute_result"
    }
   ],
   "source": [
    "t.cdf(-1.5,19)  #t.cdf(-1.5, 20-1)"
   ]
  },
  {
   "cell_type": "markdown",
   "metadata": {
    "id": "O1ToHV_xA4QT"
   },
   "source": [
    "If the sample size is increased to 200, even then we can use student t distribution"
   ]
  },
  {
   "cell_type": "code",
   "execution_count": null,
   "metadata": {
    "colab": {
     "base_uri": "https://localhost:8080/"
    },
    "executionInfo": {
     "elapsed": 12,
     "status": "ok",
     "timestamp": 1686822438234,
     "user": {
      "displayName": "Sriram Shiva Kumar",
      "userId": "12949414329469505343"
     },
     "user_tz": -330
    },
    "id": "8tSm5kGwAidF",
    "outputId": "628c0568-6354-45c0-c70f-6bf827b3f0d6"
   },
   "outputs": [
    {
     "data": {
      "text/plain": [
       "0.06759961872077877"
      ]
     },
     "execution_count": 55,
     "metadata": {},
     "output_type": "execute_result"
    }
   ],
   "source": [
    "t.cdf(-1.5,199)"
   ]
  },
  {
   "cell_type": "markdown",
   "metadata": {
    "id": "OHalPzM3wnfd"
   },
   "source": [
    "**INFERENTIAL STATISTICS:**\n",
    "\n",
    "\n",
    "Until now we're summarized data. now we need to take a decision based on that data.\n",
    "\n",
    "\n",
    "infer = to conclude\n",
    "It is used to draw the conclusion"
   ]
  },
  {
   "cell_type": "markdown",
   "metadata": {
    "id": "mEcRK1uUw5hN"
   },
   "source": [
    "**INFERENTIAL STATISTICS:**\n",
    "\n",
    "two terms are used.\n",
    "\n",
    "1) **Population** = Entire set\n",
    "\n",
    "2) **Sample** = Subset\n",
    "\n",
    "--> **Population parameter.(PP)**:\n",
    "\n",
    "If the data is collected from Population Set, and then summarize it in one number, then the number that you get is called **Population parameter.(PP)**\n",
    "\n",
    "--> **Sample parameter(SS)**:\n",
    "\n",
    "If the data is collected from Sample Set, and then summarize it in one number, then the number that you get is called **Sample parameter.**\n",
    "\n",
    "**SS = PP + Bias + Chance Variation**\n",
    "\n",
    "bias = +ve or -ve, prejudice or assumption\n",
    "        Presence of bias will distort the reality.\n",
    "        Bias can be removed.\n",
    "\n",
    "**Chance Variation:**\n",
    "\n",
    "--> as the sample changes, chance variation changes.\n",
    "--> Chance variation can be removed when entire population size is considered.\n",
    "--> Chance variation cannot be removed if sample is considered.\n",
    "\n",
    "In most of the cases we use sample only due to it takes more time and money to count whole population.\n",
    "\n",
    "**Confidence level:**\n",
    "it is the degree or probability of delivering the correct result.\n",
    "**default value = 95%**\n",
    "\n",
    "--> If the data is coming from a sample confidence level will never be 100%. It will be less than 100%.\n",
    "--> Inorder to get 100% confidence level, collect the data from entire population.\n",
    "\n",
    "--> You can increase confidence level, but along with that the sample size also increases."
   ]
  },
  {
   "cell_type": "markdown",
   "metadata": {
    "id": "7pgEGH-64jyB"
   },
   "source": [
    "Sample statistics changes from sample to sample but population parameter remains constant."
   ]
  },
  {
   "cell_type": "markdown",
   "metadata": {
    "id": "_xX-9hf3_xdY"
   },
   "source": [
    "**Example on confidence level:**\n",
    "\n",
    "no of samples n = 2000\n",
    "SS or average = 27000\n",
    "std dev = 5000\n",
    "95% confidence,\n",
    "find interval for PP?"
   ]
  },
  {
   "cell_type": "code",
   "execution_count": null,
   "metadata": {
    "id": "hyuwlLJnwnHy"
   },
   "outputs": [],
   "source": [
    "import scipy"
   ]
  },
  {
   "cell_type": "code",
   "execution_count": null,
   "metadata": {
    "id": "d6u32osrBXma"
   },
   "outputs": [],
   "source": [
    "from scipy import stats"
   ]
  },
  {
   "cell_type": "markdown",
   "metadata": {
    "id": "MXLp9htcCHsS"
   },
   "source": [
    "**IMP**\n",
    "\n",
    "--> **stats.t.interval(confidence_level_in_fractions, degree_of_freedom,\n",
    " sample_mean, standard_error_of_mean)**\n",
    "\n",
    "          std error of mean = std_dev/(sqrt(sample size))\n",
    "\n",
    "          degree of freedom = sample size - 1\n"
   ]
  },
  {
   "cell_type": "code",
   "execution_count": null,
   "metadata": {
    "colab": {
     "base_uri": "https://localhost:8080/"
    },
    "executionInfo": {
     "elapsed": 528,
     "status": "ok",
     "timestamp": 1686832373429,
     "user": {
      "displayName": "Sriram Shiva Kumar",
      "userId": "12949414329469505343"
     },
     "user_tz": -330
    },
    "id": "__unrNx1B5NY",
    "outputId": "5d2c9886-514d-4f44-8abf-db01b9b68aee"
   },
   "outputs": [
    {
     "data": {
      "text/plain": [
       "(26780.73660551642, 27219.26339448358)"
      ]
     },
     "execution_count": 64,
     "metadata": {},
     "output_type": "execute_result"
    }
   ],
   "source": [
    "stats.t.interval(0.95, 1999, 27000, 5000/2000**0.5)\n",
    "\n",
    "#This is the interval of Population Parameter (simply A,B values beside mean value in the normal distribution graph)"
   ]
  },
  {
   "cell_type": "code",
   "execution_count": null,
   "metadata": {
    "colab": {
     "base_uri": "https://localhost:8080/"
    },
    "executionInfo": {
     "elapsed": 532,
     "status": "ok",
     "timestamp": 1686833388010,
     "user": {
      "displayName": "Sriram Shiva Kumar",
      "userId": "12949414329469505343"
     },
     "user_tz": -330
    },
    "id": "TYjl_H8sC1ik",
    "outputId": "3c6869f1-8a7d-40da-aefe-54e047b87de6"
   },
   "outputs": [
    {
     "data": {
      "text/plain": [
       "(26780.73660551642, 27219.26339448358)"
      ]
     },
     "execution_count": 79,
     "metadata": {},
     "output_type": "execute_result"
    }
   ],
   "source": [
    "stats.t.interval(0.95, 1999, 27000, 5000/2000**0.5)"
   ]
  },
  {
   "cell_type": "code",
   "execution_count": null,
   "metadata": {
    "id": "zPln13PDEfWG"
   },
   "outputs": [],
   "source": [
    "x = stats.t.interval(0.95, 1999, 27000, 5000/2000**0.5)"
   ]
  },
  {
   "cell_type": "code",
   "execution_count": null,
   "metadata": {
    "colab": {
     "base_uri": "https://localhost:8080/"
    },
    "executionInfo": {
     "elapsed": 900,
     "status": "ok",
     "timestamp": 1686833268716,
     "user": {
      "displayName": "Sriram Shiva Kumar",
      "userId": "12949414329469505343"
     },
     "user_tz": -330
    },
    "id": "5isxYOnoE3ge",
    "outputId": "1c8f82dd-1c9f-4480-8948-678c36de0eb1"
   },
   "outputs": [
    {
     "data": {
      "text/plain": [
       "(26780.73660551642, 27219.26339448358)"
      ]
     },
     "execution_count": 72,
     "metadata": {},
     "output_type": "execute_result"
    }
   ],
   "source": [
    "x"
   ]
  },
  {
   "cell_type": "code",
   "execution_count": null,
   "metadata": {
    "colab": {
     "base_uri": "https://localhost:8080/"
    },
    "executionInfo": {
     "elapsed": 7,
     "status": "ok",
     "timestamp": 1686833304792,
     "user": {
      "displayName": "Sriram Shiva Kumar",
      "userId": "12949414329469505343"
     },
     "user_tz": -330
    },
    "id": "hoENqh3tE6SG",
    "outputId": "97404ec0-8d01-40a8-b9a1-c864615b8d10"
   },
   "outputs": [
    {
     "data": {
      "text/plain": [
       "438.5267889671595"
      ]
     },
     "execution_count": 73,
     "metadata": {},
     "output_type": "execute_result"
    }
   ],
   "source": [
    "base_interval = x[1]-x[0]\n",
    "base_interval"
   ]
  },
  {
   "cell_type": "markdown",
   "metadata": {
    "id": "n6p4FR-EF6JV"
   },
   "source": [
    "If you increase the confidence level to 99.9 by keeping remaining values constant, then the interval increases.\n",
    "\n",
    "> Indented block\n",
    "\n"
   ]
  },
  {
   "cell_type": "code",
   "execution_count": null,
   "metadata": {
    "id": "NGJfCcdbE_9J"
   },
   "outputs": [],
   "source": [
    "x = stats.t.interval(0.999, 1999, 27000, 5000/2000**0.5)"
   ]
  },
  {
   "cell_type": "code",
   "execution_count": null,
   "metadata": {
    "colab": {
     "base_uri": "https://localhost:8080/"
    },
    "executionInfo": {
     "elapsed": 896,
     "status": "ok",
     "timestamp": 1686833430914,
     "user": {
      "displayName": "Sriram Shiva Kumar",
      "userId": "12949414329469505343"
     },
     "user_tz": -330
    },
    "id": "lhyB0CxqGdf_",
    "outputId": "3e44312e-8796-405c-8a76-ff8aab7a6b98"
   },
   "outputs": [
    {
     "data": {
      "text/plain": [
       "(26631.56301484492, 27368.436985155084)"
      ]
     },
     "execution_count": 81,
     "metadata": {},
     "output_type": "execute_result"
    }
   ],
   "source": [
    "x"
   ]
  },
  {
   "cell_type": "code",
   "execution_count": null,
   "metadata": {
    "colab": {
     "base_uri": "https://localhost:8080/"
    },
    "executionInfo": {
     "elapsed": 4,
     "status": "ok",
     "timestamp": 1686833431664,
     "user": {
      "displayName": "Sriram Shiva Kumar",
      "userId": "12949414329469505343"
     },
     "user_tz": -330
    },
    "id": "zBtHD8McGeSM",
    "outputId": "e6c59f04-7e8b-484c-a2d0-3d39bde56262"
   },
   "outputs": [
    {
     "data": {
      "text/plain": [
       "736.8739703101637"
      ]
     },
     "execution_count": 82,
     "metadata": {},
     "output_type": "execute_result"
    }
   ],
   "source": [
    "base_interval = x[1]-x[0]\n",
    "base_interval"
   ]
  },
  {
   "cell_type": "markdown",
   "metadata": {
    "id": "7daNSbePJb_E"
   },
   "source": [
    "Std deviation is decreased from 5000 to 1000"
   ]
  },
  {
   "cell_type": "code",
   "execution_count": null,
   "metadata": {
    "colab": {
     "base_uri": "https://localhost:8080/"
    },
    "executionInfo": {
     "elapsed": 542,
     "status": "ok",
     "timestamp": 1686833458398,
     "user": {
      "displayName": "Sriram Shiva Kumar",
      "userId": "12949414329469505343"
     },
     "user_tz": -330
    },
    "id": "J64itdANGf9L",
    "outputId": "a39e509e-b05f-4652-deb0-a5f97a644d35"
   },
   "outputs": [
    {
     "data": {
      "text/plain": [
       "(26956.147321103283, 27043.852678896717)"
      ]
     },
     "execution_count": 84,
     "metadata": {},
     "output_type": "execute_result"
    }
   ],
   "source": [
    "x = stats.t.interval(0.95, 1999, 27000, 1000/2000**0.5)\n",
    "x"
   ]
  },
  {
   "cell_type": "code",
   "execution_count": null,
   "metadata": {
    "colab": {
     "base_uri": "https://localhost:8080/"
    },
    "executionInfo": {
     "elapsed": 491,
     "status": "ok",
     "timestamp": 1686833467934,
     "user": {
      "displayName": "Sriram Shiva Kumar",
      "userId": "12949414329469505343"
     },
     "user_tz": -330
    },
    "id": "ULBzDM5vG8_J",
    "outputId": "87d37bda-19cd-40c2-b674-f2bca93c405b"
   },
   "outputs": [
    {
     "data": {
      "text/plain": [
       "87.70535779343481"
      ]
     },
     "execution_count": 85,
     "metadata": {},
     "output_type": "execute_result"
    }
   ],
   "source": [
    "base_interval = x[1]-x[0]\n",
    "base_interval"
   ]
  },
  {
   "cell_type": "markdown",
   "metadata": {
    "id": "RH74LeVWHVuH"
   },
   "source": [
    "Changing n = 200000, deg of free = 2000000-1 = 1999999 , std dev from 1000 to old value 5000"
   ]
  },
  {
   "cell_type": "code",
   "execution_count": null,
   "metadata": {
    "colab": {
     "base_uri": "https://localhost:8080/"
    },
    "executionInfo": {
     "elapsed": 535,
     "status": "ok",
     "timestamp": 1686833726355,
     "user": {
      "displayName": "Sriram Shiva Kumar",
      "userId": "12949414329469505343"
     },
     "user_tz": -330
    },
    "id": "cKN-zKNQHA1G",
    "outputId": "ce088453-384b-4f7a-f7d2-fc7b405a6387"
   },
   "outputs": [
    {
     "data": {
      "text/plain": [
       "(26993.070476684625, 27006.929523315375)"
      ]
     },
     "execution_count": 88,
     "metadata": {},
     "output_type": "execute_result"
    }
   ],
   "source": [
    "x = stats.t.interval(0.95, 1999999, 27000, 5000/2000000**0.5)\n",
    "x"
   ]
  },
  {
   "cell_type": "code",
   "execution_count": null,
   "metadata": {
    "colab": {
     "base_uri": "https://localhost:8080/"
    },
    "executionInfo": {
     "elapsed": 603,
     "status": "ok",
     "timestamp": 1686833729433,
     "user": {
      "displayName": "Sriram Shiva Kumar",
      "userId": "12949414329469505343"
     },
     "user_tz": -330
    },
    "id": "jm8noE3eH2mj",
    "outputId": "994acbb3-9a71-4e8d-e7a4-308971f2726e"
   },
   "outputs": [
    {
     "data": {
      "text/plain": [
       "13.859046630750527"
      ]
     },
     "execution_count": 89,
     "metadata": {},
     "output_type": "execute_result"
    }
   ],
   "source": [
    "ss_interval = x[1]-x[0]\n",
    "ss_interval"
   ]
  },
  {
   "cell_type": "code",
   "execution_count": null,
   "metadata": {
    "id": "RdIHnQInH7Eo"
   },
   "outputs": [],
   "source": [
    "from scipy import stats"
   ]
  },
  {
   "cell_type": "code",
   "execution_count": null,
   "metadata": {
    "id": "FdIwMOI5wlLr"
   },
   "outputs": [],
   "source": [
    "from scipy.stats import norm"
   ]
  },
  {
   "cell_type": "code",
   "execution_count": null,
   "metadata": {
    "id": "I6dRWb08wnP9"
   },
   "outputs": [],
   "source": [
    "from scipy.stats import t"
   ]
  },
  {
   "cell_type": "code",
   "execution_count": null,
   "metadata": {
    "colab": {
     "base_uri": "https://localhost:8080/"
    },
    "executionInfo": {
     "elapsed": 522,
     "status": "ok",
     "timestamp": 1686918785106,
     "user": {
      "displayName": "Sriram Shiva Kumar",
      "userId": "12949414329469505343"
     },
     "user_tz": -330
    },
    "id": "H1lT_l4kMbeE",
    "outputId": "2bb92cec-d5e6-44b5-9060-8e1e01dec08e"
   },
   "outputs": [
    {
     "data": {
      "text/plain": [
       "0.6826894921370859"
      ]
     },
     "execution_count": 5,
     "metadata": {},
     "output_type": "execute_result"
    }
   ],
   "source": [
    "norm.cdf(1)-norm.cdf(-1)"
   ]
  },
  {
   "cell_type": "code",
   "execution_count": null,
   "metadata": {
    "colab": {
     "base_uri": "https://localhost:8080/"
    },
    "executionInfo": {
     "elapsed": 8,
     "status": "ok",
     "timestamp": 1686918771407,
     "user": {
      "displayName": "Sriram Shiva Kumar",
      "userId": "12949414329469505343"
     },
     "user_tz": -330
    },
    "id": "-bLKrSiKwp8W",
    "outputId": "71933d0e-9dc5-49a1-bf68-382af8126a58"
   },
   "outputs": [
    {
     "data": {
      "text/plain": [
       "0.15865525393145707"
      ]
     },
     "execution_count": 4,
     "metadata": {},
     "output_type": "execute_result"
    }
   ],
   "source": [
    "norm.cdf(-1)\n",
    "\n",
    "#cdf is used to find the area under the curve using the X point as input,\n",
    "#output  is the area of the left side of curve left of -1"
   ]
  },
  {
   "cell_type": "code",
   "execution_count": null,
   "metadata": {
    "colab": {
     "base_uri": "https://localhost:8080/"
    },
    "executionInfo": {
     "elapsed": 453,
     "status": "ok",
     "timestamp": 1686894961695,
     "user": {
      "displayName": "Sriram Shiva Kumar",
      "userId": "12949414329469505343"
     },
     "user_tz": -330
    },
    "id": "3c0U1TMdxDKQ",
    "outputId": "b12c40a3-1cad-47d7-d211-c1f622e4c5c1"
   },
   "outputs": [
    {
     "data": {
      "text/plain": [
       "-1.0"
      ]
     },
     "execution_count": 5,
     "metadata": {},
     "output_type": "execute_result"
    }
   ],
   "source": [
    "norm.ppf(0.15865525393145707)\n",
    "\n",
    "#ppf is used to find the X axis value using the area as input\n",
    "#area will never be negative"
   ]
  },
  {
   "cell_type": "code",
   "execution_count": null,
   "metadata": {
    "colab": {
     "base_uri": "https://localhost:8080/"
    },
    "executionInfo": {
     "elapsed": 10,
     "status": "ok",
     "timestamp": 1686894964027,
     "user": {
      "displayName": "Sriram Shiva Kumar",
      "userId": "12949414329469505343"
     },
     "user_tz": -330
    },
    "id": "VJGW0cSgxFbQ",
    "outputId": "eb4dd1a0-4207-4ac1-8442-282f38150716"
   },
   "outputs": [
    {
     "data": {
      "text/plain": [
       "0.0"
      ]
     },
     "execution_count": 6,
     "metadata": {},
     "output_type": "execute_result"
    }
   ],
   "source": [
    "norm.ppf(0.5)"
   ]
  },
  {
   "cell_type": "code",
   "execution_count": null,
   "metadata": {
    "colab": {
     "base_uri": "https://localhost:8080/"
    },
    "executionInfo": {
     "elapsed": 479,
     "status": "ok",
     "timestamp": 1686894966481,
     "user": {
      "displayName": "Sriram Shiva Kumar",
      "userId": "12949414329469505343"
     },
     "user_tz": -330
    },
    "id": "qY0woOrGxKhy",
    "outputId": "cbefddce-1c34-4583-d3a8-79c6fd48226d"
   },
   "outputs": [
    {
     "data": {
      "text/plain": [
       "0.9744119404783614"
      ]
     },
     "execution_count": 7,
     "metadata": {},
     "output_type": "execute_result"
    }
   ],
   "source": [
    "norm.cdf(1.95)"
   ]
  },
  {
   "cell_type": "code",
   "execution_count": null,
   "metadata": {
    "id": "CCN2bSBrquDM"
   },
   "outputs": [],
   "source": []
  }
 ],
 "metadata": {
  "colab": {
   "authorship_tag": "ABX9TyMwn6E5fdRF/qAlDaYT7L4D",
   "provenance": []
  },
  "kernelspec": {
   "display_name": "Python 3 (ipykernel)",
   "language": "python",
   "name": "python3"
  },
  "language_info": {
   "codemirror_mode": {
    "name": "ipython",
    "version": 3
   },
   "file_extension": ".py",
   "mimetype": "text/x-python",
   "name": "python",
   "nbconvert_exporter": "python",
   "pygments_lexer": "ipython3",
   "version": "3.9.13"
  }
 },
 "nbformat": 4,
 "nbformat_minor": 1
}
